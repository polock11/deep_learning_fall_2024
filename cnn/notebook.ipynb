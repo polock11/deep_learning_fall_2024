{
 "cells": [
  {
   "cell_type": "code",
   "execution_count": null,
   "metadata": {},
   "outputs": [],
   "source": [
    "from torchvision.datasets import CIFAR10\n",
    "import matplotlib.pyplot as plt\n",
    "from torch.utils.data import DataLoader, Dataset\n",
    "import torch\n",
    "from torchvision import transforms\n",
    "import torch.optim as optim\n",
    "import torch.nn as nn\n",
    "\n"
   ]
  },
  {
   "cell_type": "code",
   "execution_count": 81,
   "metadata": {},
   "outputs": [],
   "source": [
    "transform = transforms.Compose([\n",
    "    transforms.ToTensor(),  # Converts images to PyTorch tensors and scales to [0, 1]\n",
    "    transforms.Normalize((0.5, 0.5, 0.5), (0.5, 0.5, 0.5))  # Normalizes to [-1, 1]\n",
    "])"
   ]
  },
  {
   "cell_type": "code",
   "execution_count": 82,
   "metadata": {},
   "outputs": [],
   "source": [
    "train_data = CIFAR10(\"data/train/\", train=True, download=False, transform=transform)\n",
    "test_data = CIFAR10(\"data/test/\", train=False, download=False, transform=transform)"
   ]
  },
  {
   "cell_type": "code",
   "execution_count": null,
   "metadata": {},
   "outputs": [],
   "source": [
    "classes = test_data.classes"
   ]
  },
  {
   "cell_type": "code",
   "execution_count": 83,
   "metadata": {},
   "outputs": [],
   "source": [
    "# Create DataLoaders\n",
    "train_loader = DataLoader(train_data, shuffle=True, batch_size=8, num_workers=2)\n",
    "test_loader = DataLoader(test_data, shuffle=False, batch_size=8, num_workers=2)"
   ]
  },
  {
   "cell_type": "code",
   "execution_count": 84,
   "metadata": {},
   "outputs": [],
   "source": [
    "import torch.nn as nn\n",
    "import torch.nn.functional as F\n",
    "\n",
    "\n",
    "class Net(nn.Module):\n",
    "    def __init__(self):\n",
    "        super().__init__()\n",
    "        self.conv1 = nn.Conv2d(3, 6, 5) # 6, 28, 28 color channel=3, out put channel(random)=6, kernel=5. input 32 pixel. [input(32)- kernel(5)]/strid(1) = 27 + 1 = 28 \n",
    "        self.pool = nn.MaxPool2d(2, 2) # 6, 14, 14, after pooling, devide height(28)/2, weight(28)/2, nXn pool metrics \n",
    "        self.conv2 = nn.Conv2d(6, 16, 5) # 16, 10, 10 -> 16, 5,5\n",
    "        self.fc1 = nn.Linear(16 * 5 * 5, 120)\n",
    "        self.fc2 = nn.Linear(120, 84)\n",
    "        self.fc3 = nn.Linear(84, 10)\n",
    "\n",
    "    def forward(self, x):\n",
    "        x = self.pool(F.relu(self.conv1(x)))\n",
    "        x = self.pool(F.relu(self.conv2(x)))\n",
    "        x = torch.flatten(x, 1) # flatten all dimensions except batch\n",
    "        x = F.relu(self.fc1(x))\n",
    "        x = F.relu(self.fc2(x))\n",
    "        x = self.fc3(x)\n",
    "        return x\n",
    "\n",
    "\n",
    "net = Net()"
   ]
  },
  {
   "cell_type": "code",
   "execution_count": 85,
   "metadata": {},
   "outputs": [],
   "source": [
    "optimizer = optim.SGD(net.parameters(), lr=0.001, momentum=.9)\n",
    "loss_func = nn.CrossEntropyLoss()"
   ]
  },
  {
   "cell_type": "code",
   "execution_count": 86,
   "metadata": {},
   "outputs": [
    {
     "name": "stdout",
     "output_type": "stream",
     "text": [
      "Epoch: 0  Training Loss: 1.8524\n",
      "Epoch: 1  Training Loss: 1.4191\n",
      "Epoch: 2  Training Loss: 1.2733\n",
      "Epoch: 3  Training Loss: 1.1778\n",
      "Epoch: 4  Training Loss: 1.1017\n",
      "Epoch: 5  Training Loss: 1.0335\n",
      "Epoch: 6  Training Loss: 0.9788\n",
      "Epoch: 7  Training Loss: 0.9317\n",
      "Epoch: 8  Training Loss: 0.8844\n",
      "Epoch: 9  Training Loss: 0.8457\n",
      "Epoch: 10  Training Loss: 0.8118\n",
      "Epoch: 11  Training Loss: 0.7783\n",
      "Epoch: 12  Training Loss: 0.7480\n",
      "Epoch: 13  Training Loss: 0.7189\n",
      "Epoch: 14  Training Loss: 0.6933\n",
      "Epoch: 15  Training Loss: 0.6664\n",
      "Epoch: 16  Training Loss: 0.6439\n",
      "Epoch: 17  Training Loss: 0.6193\n",
      "Epoch: 18  Training Loss: 0.6012\n",
      "Epoch: 19  Training Loss: 0.5815\n"
     ]
    }
   ],
   "source": [
    "for epoch in range(20):\n",
    "\n",
    "    tr_loss = 0.0\n",
    "\n",
    "    for i, data in enumerate(train_loader):\n",
    "        img, target = data\n",
    "\n",
    "        optimizer.zero_grad()\n",
    "        outputs = net(img)\n",
    "        loss = loss_func(outputs, target)\n",
    "\n",
    "        loss.backward()\n",
    "        optimizer.step()\n",
    "\n",
    "        tr_loss += loss.item()\n",
    "\n",
    "    tr_loss /= len(train_loader)\n",
    "\n",
    "    print(f\"Epoch: {epoch}  Training Loss: {tr_loss:.4f}\")\n"
   ]
  },
  {
   "cell_type": "code",
   "execution_count": null,
   "metadata": {},
   "outputs": [],
   "source": [
    "torch.save(net.state_dict(), \"trained_net.pth\") # saving the weights and biases, the params actually\n",
    "\"\"\"\n",
    "in order to make it work, make a new instance of the\n",
    "net architecture on which the model has been trained on\n",
    "\"\"\""
   ]
  },
  {
   "cell_type": "code",
   "execution_count": 88,
   "metadata": {},
   "outputs": [
    {
     "name": "stderr",
     "output_type": "stream",
     "text": [
      "/var/folders/2s/t87m92j14g9b1yw35n324r5w0000gn/T/ipykernel_60856/2188018614.py:2: FutureWarning: You are using `torch.load` with `weights_only=False` (the current default value), which uses the default pickle module implicitly. It is possible to construct malicious pickle data which will execute arbitrary code during unpickling (See https://github.com/pytorch/pytorch/blob/main/SECURITY.md#untrusted-models for more details). In a future release, the default value for `weights_only` will be flipped to `True`. This limits the functions that could be executed during unpickling. Arbitrary objects will no longer be allowed to be loaded via this mode unless they are explicitly allowlisted by the user via `torch.serialization.add_safe_globals`. We recommend you start setting `weights_only=True` for any use case where you don't have full control of the loaded file. Please open an issue on GitHub for any issues related to this experimental feature.\n",
      "  trained_net.load_state_dict(torch.load(\"trained_net.pth\"))\n"
     ]
    },
    {
     "data": {
      "text/plain": [
       "<All keys matched successfully>"
      ]
     },
     "execution_count": 88,
     "metadata": {},
     "output_type": "execute_result"
    }
   ],
   "source": [
    "trained_net = Net()\n",
    "trained_net.load_state_dict(torch.load(\"trained_net.pth\"))"
   ]
  },
  {
   "cell_type": "code",
   "execution_count": 99,
   "metadata": {},
   "outputs": [
    {
     "name": "stdout",
     "output_type": "stream",
     "text": [
      "Accuracy: 63.9400\n"
     ]
    }
   ],
   "source": [
    "correct = 0\n",
    "total = 0\n",
    "\n",
    "trained_net.eval()\n",
    "\n",
    "with torch.no_grad():\n",
    "    for data in test_loader:\n",
    "        img, target = data\n",
    "        outputs = trained_net(img)\n",
    "        _, predicts = torch.max(outputs,1)\n",
    "        total += target.size(0)\n",
    "        correct += (predicts == target).sum().item()\n",
    "\n",
    "accuracy = 100 * correct/total\n",
    "\n",
    "print(f\"Accuracy: {accuracy:.4f}\")"
   ]
  },
  {
   "cell_type": "code",
   "execution_count": 108,
   "metadata": {},
   "outputs": [
    {
     "name": "stdout",
     "output_type": "stream",
     "text": [
      "bird\n",
      "airplane\n"
     ]
    }
   ],
   "source": [
    "# inference \n",
    "\n",
    "new_transform = transforms.Compose([\n",
    "    transforms.Resize((32,32)),\n",
    "    transforms.ToTensor(),\n",
    "    transforms.Normalize((0.5,0.5,0.5),(0.5,0.5,0.5))\n",
    "])\n",
    "\n",
    "def load_image(img_path):\n",
    "    image = Image.open(img_path)\n",
    "    image = new_transform(image)\n",
    "    image = image.unsqueeze(0)\n",
    "    return image\n",
    "\n",
    "image_path = [\"cat.jpg\", \"pln.jpg\"]\n",
    "images = [load_image(img) for img in image_path]\n",
    "\n",
    "trained_net.eval()\n",
    "with torch.no_grad():\n",
    "    for img in images:\n",
    "        out = trained_net(img)\n",
    "        _, pred = torch.max(out,1)\n",
    "        print(classes[pred.item()])\n",
    "\n"
   ]
  }
 ],
 "metadata": {
  "kernelspec": {
   "display_name": "venv",
   "language": "python",
   "name": "python3"
  },
  "language_info": {
   "codemirror_mode": {
    "name": "ipython",
    "version": 3
   },
   "file_extension": ".py",
   "mimetype": "text/x-python",
   "name": "python",
   "nbconvert_exporter": "python",
   "pygments_lexer": "ipython3",
   "version": "3.11.4"
  }
 },
 "nbformat": 4,
 "nbformat_minor": 2
}
