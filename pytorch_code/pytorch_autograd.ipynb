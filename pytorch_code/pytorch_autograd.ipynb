{
 "cells": [
  {
   "cell_type": "code",
   "execution_count": 1,
   "metadata": {},
   "outputs": [],
   "source": [
    "import torch"
   ]
  },
  {
   "cell_type": "code",
   "execution_count": 54,
   "metadata": {},
   "outputs": [],
   "source": [
    "# function 1\n",
    "#dy/dx\n",
    "x = torch.tensor(3, requires_grad=True, dtype=torch.float32)\n",
    "y = x**2"
   ]
  },
  {
   "cell_type": "code",
   "execution_count": 55,
   "metadata": {},
   "outputs": [
    {
     "name": "stdout",
     "output_type": "stream",
     "text": [
      "tensor(3., requires_grad=True)\n",
      "tensor(9., grad_fn=<PowBackward0>)\n"
     ]
    }
   ],
   "source": [
    "print(x)\n",
    "print(y)"
   ]
  },
  {
   "cell_type": "code",
   "execution_count": 56,
   "metadata": {},
   "outputs": [],
   "source": [
    "y.backward()"
   ]
  },
  {
   "cell_type": "code",
   "execution_count": 57,
   "metadata": {},
   "outputs": [
    {
     "data": {
      "text/plain": [
       "tensor(6.)"
      ]
     },
     "execution_count": 57,
     "metadata": {},
     "output_type": "execute_result"
    }
   ],
   "source": [
    "x.grad"
   ]
  },
  {
   "cell_type": "code",
   "execution_count": 58,
   "metadata": {},
   "outputs": [],
   "source": [
    "# frunction 2\n",
    "# dx/dz = dx/dy * dy/dz\n",
    "x = torch.tensor(2, requires_grad=True, dtype=torch.float32)\n",
    "\n",
    "y = x ** 2 # 4\n",
    "z = 2*y + y**2 # 8 + 16 = 24\n",
    "#z = torch.sin(y)"
   ]
  },
  {
   "cell_type": "code",
   "execution_count": 59,
   "metadata": {},
   "outputs": [],
   "source": [
    "z.backward()"
   ]
  },
  {
   "cell_type": "code",
   "execution_count": 60,
   "metadata": {},
   "outputs": [
    {
     "name": "stdout",
     "output_type": "stream",
     "text": [
      "x tensor(2., requires_grad=True)\n",
      "y tensor(4., grad_fn=<PowBackward0>)\n",
      "z tensor(24., grad_fn=<AddBackward0>)\n"
     ]
    }
   ],
   "source": [
    "print(\"x\", x)\n",
    "print(\"y\", y)\n",
    "print(\"z\", z)"
   ]
  },
  {
   "cell_type": "code",
   "execution_count": 61,
   "metadata": {},
   "outputs": [
    {
     "data": {
      "text/plain": [
       "tensor(40.)"
      ]
     },
     "execution_count": 61,
     "metadata": {},
     "output_type": "execute_result"
    }
   ],
   "source": [
    "# final derivative\n",
    "x.grad"
   ]
  },
  {
   "cell_type": "code",
   "execution_count": 62,
   "metadata": {},
   "outputs": [
    {
     "name": "stderr",
     "output_type": "stream",
     "text": [
      "/var/folders/2s/t87m92j14g9b1yw35n324r5w0000gn/T/ipykernel_94350/191622969.py:3: UserWarning: The .grad attribute of a Tensor that is not a leaf Tensor is being accessed. Its .grad attribute won't be populated during autograd.backward(). If you indeed want the .grad field to be populated for a non-leaf Tensor, use .retain_grad() on the non-leaf Tensor. If you access the non-leaf Tensor by mistake, make sure you access the leaf Tensor instead. See github.com/pytorch/pytorch/pull/30531 for more informations. (Triggered internally at /Users/runner/work/pytorch/pytorch/pytorch/build/aten/src/ATen/core/TensorBody.h:494.)\n",
      "  y.grad\n",
      "/var/folders/2s/t87m92j14g9b1yw35n324r5w0000gn/T/ipykernel_94350/191622969.py:4: UserWarning: The .grad attribute of a Tensor that is not a leaf Tensor is being accessed. Its .grad attribute won't be populated during autograd.backward(). If you indeed want the .grad field to be populated for a non-leaf Tensor, use .retain_grad() on the non-leaf Tensor. If you access the non-leaf Tensor by mistake, make sure you access the leaf Tensor instead. See github.com/pytorch/pytorch/pull/30531 for more informations. (Triggered internally at /Users/runner/work/pytorch/pytorch/pytorch/build/aten/src/ATen/core/TensorBody.h:494.)\n",
      "  z.grad\n"
     ]
    }
   ],
   "source": [
    "# cannot access y and z beacuse these are not leaf or root node in the computation graph.\n",
    "# x is leaf node(staring node)\n",
    "y.grad\n",
    "z.grad"
   ]
  },
  {
   "cell_type": "markdown",
   "metadata": {},
   "source": [
    "![Alt text]( single_nuron.png \"Optional Title\")\n"
   ]
  },
  {
   "cell_type": "code",
   "execution_count": 63,
   "metadata": {},
   "outputs": [],
   "source": [
    "# dL/dw = dL/dy_pred * dy_pred/dz * dz/dw\n",
    "# dL/db = dL/dy_pred * dy_pred/dz * dz/db"
   ]
  },
  {
   "cell_type": "markdown",
   "metadata": {},
   "source": [
    "## Manual Grad Calculation"
   ]
  },
  {
   "cell_type": "code",
   "execution_count": 64,
   "metadata": {},
   "outputs": [],
   "source": [
    "x = torch.tensor(6.7) #input\n",
    "y = torch.tensor(0) #output\n",
    "\n",
    "w = torch.tensor(1.0) # initial weight\n",
    "b = torch.tensor(0.0) # initial bias"
   ]
  },
  {
   "cell_type": "code",
   "execution_count": 24,
   "metadata": {},
   "outputs": [],
   "source": [
    "# binary cross-entropy loss for scalar\n",
    "def binary_cross_entropy_loss(prediction, target):\n",
    "    epsilon = 1e-8  \n",
    "    prediction = torch.clamp(prediction, epsilon, 1 - epsilon)\n",
    "    return -(target * torch.log(prediction) + (1 - target) * torch.log(1 - prediction))"
   ]
  },
  {
   "cell_type": "code",
   "execution_count": 66,
   "metadata": {},
   "outputs": [],
   "source": [
    "#forward pass\n",
    "z = w * x + b\n",
    "\n",
    "#prediction\n",
    "y_pred = torch.sigmoid(z)\n",
    "\n",
    "loss = binary_cross_entropy_loss(y_pred, y)"
   ]
  },
  {
   "cell_type": "code",
   "execution_count": 67,
   "metadata": {},
   "outputs": [],
   "source": [
    "# manual gradient calcualtion for backprop\n",
    "# Derivatives:\n",
    "# 1. dL/d(y_pred): Loss with respect to the prediction (y_pred)\n",
    "dloss_dy_pred = (y_pred - y)/(y_pred*(1-y_pred))\n",
    "\n",
    "# 2. dy_pred/dz: Prediction (y_pred) with respect to z (sigmoid derivative)\n",
    "dy_pred_dz = y_pred * (1 - y_pred)\n",
    "\n",
    "# 3. dz/dw and dz/db: z with respect to w and b\n",
    "dz_dw = x  # dz/dw = x\n",
    "dz_db = 1  # dz/db = 1 (bias contributes directly to z)\n",
    "\n",
    "dL_dw = dloss_dy_pred * dy_pred_dz * dz_dw\n",
    "dL_db = dloss_dy_pred * dy_pred_dz * dz_db"
   ]
  },
  {
   "cell_type": "code",
   "execution_count": 68,
   "metadata": {},
   "outputs": [
    {
     "name": "stdout",
     "output_type": "stream",
     "text": [
      "Manual Gradient of loss w.r.t weight (dw): 6.6918\n",
      "Manual Gradient of loss w.r.t bias (db): 0.9988\n"
     ]
    }
   ],
   "source": [
    "print(f\"Manual Gradient of loss w.r.t weight (dw): {dL_dw:.4f}\")\n",
    "print(f\"Manual Gradient of loss w.r.t bias (db): {dL_db:.4f}\")"
   ]
  },
  {
   "cell_type": "markdown",
   "metadata": {},
   "source": [
    "# Calculation with AutoGrad"
   ]
  },
  {
   "cell_type": "code",
   "execution_count": 69,
   "metadata": {},
   "outputs": [],
   "source": [
    "x = torch.tensor(6.7) #input\n",
    "y = torch.tensor(0) #output\n",
    "\n",
    "w = torch.tensor(1.0, requires_grad=True) # initial weight\n",
    "b = torch.tensor(0.0, requires_grad=True) # initial bias"
   ]
  },
  {
   "cell_type": "code",
   "execution_count": 70,
   "metadata": {},
   "outputs": [],
   "source": [
    "#forward pass\n",
    "z = w * x + b\n",
    "\n",
    "y_pred = torch.sigmoid(z)\n",
    "\n",
    "loss = binary_cross_entropy_loss(y_pred, y)"
   ]
  },
  {
   "cell_type": "code",
   "execution_count": 71,
   "metadata": {},
   "outputs": [
    {
     "name": "stdout",
     "output_type": "stream",
     "text": [
      "z tensor(6.7000, grad_fn=<AddBackward0>)\n",
      "y_pred tensor(0.9988, grad_fn=<SigmoidBackward0>)\n",
      "loss tensor(6.7012, grad_fn=<NegBackward0>)\n"
     ]
    }
   ],
   "source": [
    "print('z', z)\n",
    "print('y_pred', y_pred)\n",
    "print('loss', loss)"
   ]
  },
  {
   "cell_type": "code",
   "execution_count": 72,
   "metadata": {},
   "outputs": [],
   "source": [
    "#goal is to find dl/dw, so we start on the loss funciton to get the gradiant\n",
    "loss.backward()"
   ]
  },
  {
   "cell_type": "code",
   "execution_count": 73,
   "metadata": {},
   "outputs": [
    {
     "name": "stdout",
     "output_type": "stream",
     "text": [
      "tensor(6.6918)\n",
      "tensor(0.9988)\n"
     ]
    }
   ],
   "source": [
    "#get grads\n",
    "print(w.grad)\n",
    "print(b.grad)"
   ]
  },
  {
   "cell_type": "markdown",
   "metadata": {},
   "source": [
    "# Gradient Cleaning"
   ]
  },
  {
   "cell_type": "code",
   "execution_count": 74,
   "metadata": {},
   "outputs": [],
   "source": [
    "x = torch.tensor(2.0, requires_grad=True)"
   ]
  },
  {
   "cell_type": "code",
   "execution_count": 75,
   "metadata": {},
   "outputs": [],
   "source": [
    "y = x ** 2\n",
    "y.backward()"
   ]
  },
  {
   "cell_type": "code",
   "execution_count": 76,
   "metadata": {},
   "outputs": [
    {
     "data": {
      "text/plain": [
       "tensor(4.)"
      ]
     },
     "execution_count": 76,
     "metadata": {},
     "output_type": "execute_result"
    }
   ],
   "source": [
    "x.grad"
   ]
  },
  {
   "cell_type": "code",
   "execution_count": null,
   "metadata": {},
   "outputs": [
    {
     "data": {
      "text/plain": [
       "tensor(0.)"
      ]
     },
     "execution_count": 77,
     "metadata": {},
     "output_type": "execute_result"
    }
   ],
   "source": [
    "# reset grads to zero\n",
    "x.grad.zero_() "
   ]
  },
  {
   "cell_type": "markdown",
   "metadata": {},
   "source": [
    "## Manual Training\n",
    "Dataset:\n",
    "\n",
    "| SSC  | HSC  | Chance |\n",
    "|------|------|--------|\n",
    "| 5.0  | 5.0  | 1      |\n",
    "| 4.9  | 5.0  | 0      |\n",
    "| 4.5  | 4.3  | 1      |\n",
    "\n"
   ]
  },
  {
   "cell_type": "markdown",
   "metadata": {},
   "source": [
    "#### Training for 2 input features and one neuron"
   ]
  },
  {
   "cell_type": "code",
   "execution_count": 1,
   "metadata": {},
   "outputs": [],
   "source": [
    "import torch\n",
    "\n",
    "# Input and output tensors\n",
    "x = torch.tensor([[5., 5.],\n",
    "                  [4.9, 5.],\n",
    "                  [4.5, 4.3]], dtype=torch.float32)\n",
    "y = torch.tensor([1., 0., 1.], dtype=torch.float32)\n",
    "\n",
    "# Weight and bias initialization\n",
    "w = torch.tensor([[.3,.0]], requires_grad=True, dtype=torch.float32)\n",
    "b = torch.tensor([1.], requires_grad=True, dtype=torch.float32)"
   ]
  },
  {
   "cell_type": "code",
   "execution_count": 4,
   "metadata": {},
   "outputs": [],
   "source": [
    "# Forward pass: z = X * W + b\n",
    "z = torch.matmul(x, w.T) + b\n",
    "\n",
    "# Predictions with sigmoid activation\n",
    "y_pred = torch.sigmoid(z)\n",
    "y_pred = torch.squeeze(y_pred)  # Ensure shape is correct (1D tensor)\n",
    "\n",
    "# Loss computation using BCELoss\n",
    "loss_fn = torch.nn.BCELoss()\n",
    "_loss = loss_fn(y_pred, y)\n",
    "\n",
    "# Backpropagation\n",
    "_loss.backward()\n"
   ]
  },
  {
   "cell_type": "code",
   "execution_count": 5,
   "metadata": {},
   "outputs": [
    {
     "name": "stdout",
     "output_type": "stream",
     "text": [
      "Updated weights: tensor([[ 0.2988, -0.0013]], requires_grad=True)\n",
      "Updated bias: tensor([0.9997], requires_grad=True)\n",
      "Loss: 0.9070596098899841\n"
     ]
    }
   ],
   "source": [
    "# Update weights and bias\n",
    "lr = 0.001\n",
    "with torch.no_grad():\n",
    "    w -= lr * w.grad\n",
    "    b -= lr * b.grad\n",
    "\n",
    "# Reset gradients after update\n",
    "w.grad.zero_()\n",
    "b.grad.zero_()\n",
    "\n",
    "print(f\"Updated weights: {w}\")\n",
    "print(f\"Updated bias: {b}\")\n",
    "print(f\"Loss: {_loss.item()}\")"
   ]
  },
  {
   "cell_type": "code",
   "execution_count": null,
   "metadata": {},
   "outputs": [],
   "source": [
    "# train one single neuron for longer epochs\n",
    "\n",
    "for i in range(500000):\n",
    "    # Forward pass: z = X * W + b\n",
    "    z = torch.matmul(x, w.T) + b\n",
    "\n",
    "    # Predictions with sigmoid activation\n",
    "    y_pred = torch.sigmoid(z)\n",
    "    y_pred = torch.squeeze(y_pred)  # Ensure shape is correct (1D tensor)\n",
    "\n",
    "    # Loss computation using BCELoss\n",
    "    loss_fn = torch.nn.BCELoss()\n",
    "    _loss = loss_fn(y_pred, y)\n",
    "    print(f\"Loss: {_loss.item()}\")\n",
    "    # Backpropagation\n",
    "    _loss.backward()\n",
    "\n",
    "    lr = 0.001\n",
    "    with torch.no_grad():\n",
    "        w -= lr * w.grad\n",
    "        b -= lr * b.grad\n",
    "\n",
    "    # Reset gradients after update\n",
    "    w.grad.zero_()\n",
    "    b.grad.zero_()\n",
    "\n",
    "    print(f\"Loss: {_loss.item()}\")"
   ]
  },
  {
   "cell_type": "code",
   "execution_count": 8,
   "metadata": {},
   "outputs": [
    {
     "name": "stdout",
     "output_type": "stream",
     "text": [
      "w tensor([[ 7.1710, -7.7686]], requires_grad=True)\n",
      "b tensor([3.5109], requires_grad=True)\n"
     ]
    }
   ],
   "source": [
    "print('w',w)\n",
    "print('b',b)"
   ]
  },
  {
   "cell_type": "code",
   "execution_count": 9,
   "metadata": {},
   "outputs": [
    {
     "name": "stdout",
     "output_type": "stream",
     "text": [
      "Predicted output: 1\n"
     ]
    }
   ],
   "source": [
    "# Make Predictions\n",
    "\n",
    "# Trained weight and bias values\n",
    "w1 = torch.tensor([[ 7.1710,-7.7686]], dtype=torch.float32)\n",
    "b1 = torch.tensor([3.5109], dtype=torch.float32)\n",
    "\n",
    "# Test input [5, 4.8] target[1]\n",
    "x_test = torch.tensor([4.8, 4.8], dtype=torch.float32)\n",
    "\n",
    "# Forward pass: z = x_test * w1 + b1\n",
    "z_test = torch.matmul(x_test, w1.T) + b1\n",
    "\n",
    "# Apply sigmoid activation to get the prediction\n",
    "y_pred_test = torch.sigmoid(z_test)\n",
    "\n",
    "print(f\"Predicted output: {1 if y_pred_test.item() > .50 else 0}\")\n",
    "\n",
    "#Note: As we are using sigmoid, the predicted output is the pobability of belonging to the class labeled as 1. "
   ]
  }
 ],
 "metadata": {
  "kernelspec": {
   "display_name": "venv",
   "language": "python",
   "name": "python3"
  },
  "language_info": {
   "codemirror_mode": {
    "name": "ipython",
    "version": 3
   },
   "file_extension": ".py",
   "mimetype": "text/x-python",
   "name": "python",
   "nbconvert_exporter": "python",
   "pygments_lexer": "ipython3",
   "version": "3.11.5"
  }
 },
 "nbformat": 4,
 "nbformat_minor": 2
}
